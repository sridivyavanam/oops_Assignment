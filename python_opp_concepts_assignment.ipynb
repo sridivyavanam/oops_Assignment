{
 "cells": [
  {
   "cell_type": "code",
   "execution_count": 8,
   "metadata": {},
   "outputs": [
    {
     "name": "stdout",
     "output_type": "stream",
     "text": [
      "Area of the rectangle: 200\n",
      "Perimeter of the rectangle: 60\n"
     ]
    }
   ],
   "source": [
    "#create a python class named rectangle with attributes length and width implement method to calculate the area and perimeter of the rectangle\n",
    "class Rectangle:\n",
    "    def __init__(self, length, width):\n",
    "        self.length = length\n",
    "        self.width = width\n",
    "\n",
    "    def calculate_area(self):\n",
    "        return self.length * self.width\n",
    "\n",
    "    def calculate_perimeter(self):\n",
    "        return 2 * (self.length + self.width)\n",
    "\n",
    "rectangle1 = Rectangle(10,20)\n",
    "area = rectangle1.calculate_area()\n",
    "print(\"Area of the rectangle:\", area)\n",
    "\n",
    "perimeter = rectangle1.calculate_perimeter()\n",
    "print(\"Perimeter of the rectangle:\", perimeter)\n"
   ]
  },
  {
   "cell_type": "code",
   "execution_count": 7,
   "metadata": {},
   "outputs": [
    {
     "name": "stdout",
     "output_type": "stream",
     "text": [
      "Area of the circle: 12.566370614359172\n",
      "Circumference of the circle: 12.566370614359172\n"
     ]
    }
   ],
   "source": [
    "#create a python class circle with attrribute raduis. implement methods to calculate the area and circumference of the circle\n",
    "\n",
    "import math\n",
    "\n",
    "class Circle:\n",
    "    def __init__(self, radius):\n",
    "        self.radius = radius\n",
    "\n",
    "    def calculate_area(self):\n",
    "        return math.pi * self.radius ** 2\n",
    "\n",
    "    def calculate_circumference(self):\n",
    "        return 2 * math.pi * self.radius\n",
    "\n",
    "circle1 = Circle(2)\n",
    "\n",
    "area = circle1.calculate_area()\n",
    "print(\"Area of the circle:\", area)\n",
    "\n",
    "circumference = circle1.calculate_circumference()\n",
    "print(\"Circumference of the circle:\", circumference)"
   ]
  },
  {
   "cell_type": "code",
   "execution_count": 11,
   "metadata": {},
   "outputs": [
    {
     "name": "stdout",
     "output_type": "stream",
     "text": [
      "Employee Name: vyshu\n",
      "Employee Salary: 16000\n",
      "Employee Designation: Software developer\n",
      "Employee Name: sanjana\n",
      "Employee Salary: 16000\n",
      "Employee Designation: software developer\n"
     ]
    }
   ],
   "source": [
    "#create a python class employee with attributes name, salary, and designation. implement a method to display employee details.\n",
    "class Employee:\n",
    "    def __init__(self, name, salary, designation):\n",
    "        self.name = name\n",
    "        self.salary = salary\n",
    "        self.designation = designation\n",
    "\n",
    "    def display_details(self):\n",
    "        print(\"Employee Name:\", self.name)\n",
    "        print(\"Employee Salary:\", self.salary)\n",
    "        print(\"Employee Designation:\", self.designation)\n",
    "\n",
    "employee1 = Employee(\"vyshu\", 16000, \"Software developer\")\n",
    "\n",
    "employee1.display_details()\n",
    "\n",
    "employee2 = Employee(\"sanjana\", 16000, \"software developer\")\n",
    "\n",
    "employee2.display_details()"
   ]
  },
  {
   "cell_type": "code",
   "execution_count": 14,
   "metadata": {},
   "outputs": [
    {
     "name": "stdout",
     "output_type": "stream",
     "text": [
      "Deposited $10000. Current balance: $60000\n"
     ]
    }
   ],
   "source": [
    "#create a python class bank account with attributes balance. implement methods to deposit and withdraw money from the account\n",
    "class BankAccount:\n",
    "    def __init__(self, initial_balance=0):\n",
    "        self.balance = initial_balance\n",
    "\n",
    "    def deposit(self, amount):\n",
    "        if amount > 0:\n",
    "            self.balance += amount\n",
    "            print(f\"Deposited ${amount}. Current balance: ${self.balance}\")\n",
    "        else:\n",
    "            print(\"Invalid amount for deposit.\")\n",
    "\n",
    "    def withdraw(self, amount):\n",
    "        if 0 < amount <= self.balance:\n",
    "            self.balance -= amount\n",
    "            print(f\"Withdrew ${amount}. Current balance: ${self.balance}\")\n",
    "        else:\n",
    "            print(\"Insufficient funds or invalid amount for withdrawal.\")\n",
    "#example\n",
    "account = BankAccount(50000)\n",
    "\n",
    "account.deposit(10000)\n",
    "\n"
   ]
  },
  {
   "cell_type": "code",
   "execution_count": 15,
   "metadata": {},
   "outputs": [
    {
     "name": "stdout",
     "output_type": "stream",
     "text": [
      "vyshu is eligible for graduation.\n"
     ]
    }
   ],
   "source": [
    "#create a python class student with attributes name,age and grade. implement a method to determine if a student is eligible for graduation based on their grade(>=70).\n",
    "\n",
    "class Student:\n",
    "    def __init__(self, name, age, grade):\n",
    "        self.name = name\n",
    "        self.age = age\n",
    "        self.grade = grade\n",
    "\n",
    "    def is_eligible_for_graduation(self):\n",
    "        if self.grade >= 70:\n",
    "            return True\n",
    "        else:\n",
    "            return False\n",
    "\n",
    "# Example \n",
    "student1 = Student(\"vyshu\", 20, 90)\n",
    "\n",
    "eligible = student1.is_eligible_for_graduation()\n",
    "if eligible:\n",
    "    print(f\"{student1.name} is eligible for graduation.\")\n",
    "else:\n",
    "    print(f\"{student1.name} is not eligible for graduation.\")"
   ]
  },
  {
   "cell_type": "code",
   "execution_count": 16,
   "metadata": {},
   "outputs": [
    {
     "name": "stdout",
     "output_type": "stream",
     "text": [
      "Car Details:\n",
      "Make: suzuki\n",
      "Model: maruti\n",
      "Year: 2024\n"
     ]
    }
   ],
   "source": [
    "#create a python class car with attributes make, model, and year. implement a method display the cars details.\n",
    "class Car:\n",
    "    def __init__(self, make, model, year):\n",
    "        self.make = make\n",
    "        self.model = model\n",
    "        self.year = year\n",
    "\n",
    "    def display_details(self):\n",
    "        print(\"Car Details:\")\n",
    "        print(\"Make:\", self.make)\n",
    "        print(\"Model:\", self.model)\n",
    "        print(\"Year:\", self.year)\n",
    "\n",
    "# Example\n",
    "car = Car(\"suzuki\", \"maruti\", 2024)\n",
    "\n",
    "car.display_details()"
   ]
  },
  {
   "cell_type": "code",
   "execution_count": 18,
   "metadata": {},
   "outputs": [
    {
     "name": "stdout",
     "output_type": "stream",
     "text": [
      "Discounted Price: 31.5\n"
     ]
    }
   ],
   "source": [
    "#create a python class book with attributes tittle, author and price. implement a method to discount the book price by a certain percentage.\n",
    "class Book:\n",
    "    def __init__(self, title, author, price):\n",
    "        self.title = title\n",
    "        self.author = author\n",
    "        self.price = price\n",
    "\n",
    "    def discount_price(self, percentage):\n",
    "        if percentage >= 0 and percentage <= 100:\n",
    "            discount_amount = self.price * (percentage / 100)\n",
    "            discounted_price = self.price - discount_amount\n",
    "            return discounted_price\n",
    "        else:\n",
    "            print(\"Invalid discount percentage.\")\n",
    "\n",
    "# Example\n",
    "book = Book(\"Python\", \"vyshu\", 35)\n",
    "\n",
    "discounted_price = book.discount_price(10)\n",
    "print(\"Discounted Price:\", discounted_price)"
   ]
  },
  {
   "cell_type": "code",
   "execution_count": 20,
   "metadata": {},
   "outputs": [
    {
     "name": "stdout",
     "output_type": "stream",
     "text": [
      "Bank Details:\n",
      "Name: state Bank\n",
      "Location: india\n"
     ]
    }
   ],
   "source": [
    "#create a python class bank with attributes name and location. implement a method to display the banks details.\n",
    "class Bank:\n",
    "    def __init__(self, name, location):\n",
    "        self.name = name\n",
    "        self.location = location\n",
    "\n",
    "    def display_details(self):\n",
    "        print(\"Bank Details:\")\n",
    "        print(\"Name:\", self.name)\n",
    "        print(\"Location:\", self.location)\n",
    "\n",
    "# Example \n",
    "bank1 = Bank(\"state Bank\", \"india\")\n",
    "\n",
    "bank1.display_details()"
   ]
  },
  {
   "cell_type": "code",
   "execution_count": 21,
   "metadata": {},
   "outputs": [
    {
     "name": "stdout",
     "output_type": "stream",
     "text": [
      "husky is a puppy.\n"
     ]
    }
   ],
   "source": [
    "#create a python class dog with attributes name and age. implement a method to determine if the dog is a puppy (age< 1).\n",
    "class Dog:\n",
    "    def __init__(self, name, age):\n",
    "        self.name = name\n",
    "        self.age = age\n",
    "\n",
    "    def is_puppy(self):\n",
    "        return self.age < 1\n",
    "\n",
    "# Example \n",
    "dog = Dog(\"husky\", 0.2)\n",
    "\n",
    "\n",
    "if dog.is_puppy():\n",
    "    print(f\"{dog.name} is a puppy.\")\n",
    "else:\n",
    "    print(f\"{dog.name} is not a puppy.\")"
   ]
  },
  {
   "cell_type": "code",
   "execution_count": 24,
   "metadata": {},
   "outputs": [
    {
     "name": "stdout",
     "output_type": "stream",
     "text": [
      "Area of triangle: 25.0\n",
      "Area of square: 100\n"
     ]
    }
   ],
   "source": [
    "#create a python class shape with an abstract method area(). implement subclasses triangle and square with their own implementations of the area() method.\n",
    "\n",
    "from abc import ABC, abstractmethod\n",
    "\n",
    "class Shape(ABC):\n",
    "    @abstractmethod\n",
    "    def area(self):\n",
    "        pass\n",
    "\n",
    "class Triangle(Shape):\n",
    "    def __init__(self, base, height):\n",
    "        self.base = base\n",
    "        self.height = height\n",
    "\n",
    "    def area(self):\n",
    "        return 0.5 * self.base * self.height\n",
    "\n",
    "class Square(Shape):\n",
    "    def __init__(self, side):\n",
    "        self.side = side\n",
    "\n",
    "    def area(self):\n",
    "        return self.side * self.side\n",
    "\n",
    "# Example usage:\n",
    "triangle = Triangle(10, 5)\n",
    "print(\"Area of triangle:\", triangle.area())\n",
    "\n",
    "square = Square(10)\n",
    "print(\"Area of square:\", square.area())"
   ]
  }
 ],
 "metadata": {
  "kernelspec": {
   "display_name": "Python 3",
   "language": "python",
   "name": "python3"
  },
  "language_info": {
   "codemirror_mode": {
    "name": "ipython",
    "version": 3
   },
   "file_extension": ".py",
   "mimetype": "text/x-python",
   "name": "python",
   "nbconvert_exporter": "python",
   "pygments_lexer": "ipython3",
   "version": "3.12.2"
  }
 },
 "nbformat": 4,
 "nbformat_minor": 2
}
